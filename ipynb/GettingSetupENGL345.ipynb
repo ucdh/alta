{
 "cells": [
  {
   "cell_type": "markdown",
   "metadata": {},
   "source": [
    "# Getting set up - ENGL 345"
   ]
  },
  {
   "cell_type": "markdown",
   "metadata": {},
   "source": [
    "We will be using a powerful, easy-to-learn, high-level programming language called Python. We chose Python for this course because it is easy to learn, general purpose, has good text analysis capabilities, and is taught by UC Computer Science at 100 level. That said, you will not learning programming or computer science here; but you will get an introduction to a toolkit for natural language processing and you'll learn some basic ways to use it to explore and analyse literary texts.\n",
    "\n",
    "This computer lab has Python 3 installed via the [Anaconda distribution](http://continuum.io/downloads \"Anaconda Python Distribution\"). The first time you use this, you'll need to tell your Mac workstation where to find Python. We do this by adding the location of the Anaconda distribution files to the Mac's $PATH environment variable, which is just a list of places it looks to find programs when we ask it to run one.\n",
    "\n",
    "Go to Applications > Utilities and run the Terminal program. At the command prompt, paste in the following:\n",
    "\n",
    "> ```echo \"export PATH=/Applications/Anaconda3/bin:$PATH\" >> .bash_profile```\n",
    "\n",
    "Then, to make this change active, paste or type:\n",
    "\n",
    "> ```source .bash_profile``` \n",
    "\n",
    "Next, you'll want to go to the OS X Finder (Mac equivalent of Windows Explorer) and create a folder to store your files in for the rest of the Python tutorials. A good location would be ```Documents > ENGL345``` or similar - it's up to you.\n",
    "\n",
    "Now you're ready to start. Download the next notebook [Getting Started](https://github.com/ucdh/alta/blob/master/ipynb/GettingStarted.ipynb) and save it to the directory you chose above.\n",
    "\n",
    "We will be using a program called iPython Notebook. You can start it from the Terminal in this way:\n",
    "\n",
    "> ```ipython notebook```"
   ]
  },
  {
   "cell_type": "markdown",
   "metadata": {},
   "source": [
    "If everything went well, you'll see a browser window open with the iPython Notebooks interface. You can now move on to [Getting Started](GettingStarted.ipynb)."
   ]
  },
  {
   "cell_type": "code",
   "execution_count": null,
   "metadata": {
    "collapsed": true
   },
   "outputs": [],
   "source": []
  }
 ],
 "metadata": {
  "kernelspec": {
   "display_name": "Python 3",
   "language": "python",
   "name": "python3"
  },
  "language_info": {
   "codemirror_mode": {
    "name": "ipython",
    "version": 3
   },
   "file_extension": ".py",
   "mimetype": "text/x-python",
   "name": "python",
   "nbconvert_exporter": "python",
   "pygments_lexer": "ipython3",
   "version": "3.4.3"
  }
 },
 "nbformat": 4,
 "nbformat_minor": 0
}
