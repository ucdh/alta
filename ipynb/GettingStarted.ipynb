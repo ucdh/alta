{
 "cells": [
  {
   "cell_type": "markdown",
   "metadata": {},
   "source": [
    "# Getting Started"
   ]
  },
  {
   "cell_type": "markdown",
   "metadata": {},
   "source": [
    "This notebook will walk through some very preliminary steps of getting started with iPython Notebook. It's part of the [The Art of Literary Text Analysis](ArtOfLiteraryTextAnalysis.ipynb) and assumes that you've already worked through the previous notebook ([Getting Setup](GettingSetupENGL345.ipynb). In this notebook we'll look in particular at:\n",
    "\n",
    "* creating a new notebook\n",
    "* basic user interface of iPython Notebook\n",
    "* searching for help on Python\n",
    "* printing a static string (_Hello World!_)\n",
    "* dealing with syntax errors\n",
    "* counting characters in a string\n",
    "* 'slicing' parts of a string\n",
    "* making lists of words\n",
    "* writing text with Markdown\n",
    "\n",
    "The _Getting Started_ notebook assumes that you've gone through the [Getting Setup](GettingSetupENGL345.ipynb) notebook and successfully installed iPython Notebook. It also assumes that you've launched iPython Notebook by either clicking on the launcher in Anaconda or typing the following command in the terminal window:\n",
    "\n",
    "> ```ipython notebook```\n",
    "\n",
    "Once you launch iPython Notebook you should see a browser window that lists the names of the files and folders from the directory where the ```ipython notebook``` command above was given, for instance the home directory. This current directory may not be ideal, so let's now check we can shutdown the notebook, and start one up . \n",
    "\n",
    "For now, go to File > New Notebook > Python 3 to create a new notebook.\n",
    "\n",
    "![New Notebook](images/notebook-launch.png)\n",
    "\n",
    "Next, follow the _User Interface Tour_ that's available under the _Help_ menu near the top to see some of the features of the notebook.\n",
    "\n",
    "![New Notebook](images/notebook-ui-tour.png)"
   ]
  },
  {
   "cell_type": "markdown",
   "metadata": {},
   "source": [
    "## Hello World!"
   ]
  },
  {
   "cell_type": "markdown",
   "metadata": {},
   "source": [
    "As the [Wikipedia](http://en.wikipedia.org/wiki/%22Hello,_world!%22_program) article explains, _Hello World!_ is the classic first program for beginners to create. Basically what we want to do is to have our program print (or display) the string (or sequence of characters) \"Hello World!\".\n",
    "\n",
    "Before we do much more, let's set the name of our document and add a Title. First, for the name, click on the Untitled1 label in the middle at the top of the screen. Once you click on it, a dialog box should appear to rename the notebook; let's rename it to ```HelloWorld``` (in some ways the name doesn't matter, but choosing something recognizable is good). Second, we'll choose the Markdown option from the format menu (that by default is set to ```Code```) and type in ```# Hello World```. Markdown is an easy-to-read markup language that is often used as a simplified way to enter HTML and other web content.\n",
    "\n",
    "![New Notebook](images/new-notebook-header.png)\n",
    "\n",
    "Finally, let's type _Hello World!_ into the grey box and then press ```Shift-Enter```. This should convert our text to a header and then create a new box underneath. In iPython Notebook, ```Shift-Enter``` is how we _run_ the current cell, which means to format it in some cases or to evaluate the code.\n",
    "\n",
    "iPython Notebooks are a form of literate programming where we can narrate what we're doing as we're doing it. This isn't just about commenting on the functionality of code, it's about explaining a process. It's a flexible genre and one that may take some getting use to.\n",
    "\n",
    "For now let's keep things relatively minimalist. With _Markdown_ selected from the format menu, type something like\n",
    "\n",
    "> This is \\__Hello World!_\\_, my first iPython Notebook\n",
    "\n",
    "Notice the underscore characters surrounding _Hello World!_, that's how we can easily italicize in the Markdown format (more about the Markdown later in this notebook). Now press ```Shift-Enter``` to see if your Markdown cell worked as planned.\n",
    "\n",
    "![Hello World! Markdown](images/hello-world-markdown.png)"
   ]
  },
  {
   "cell_type": "markdown",
   "metadata": {},
   "source": [
    "## Printing a Static String"
   ]
  },
  {
   "cell_type": "markdown",
   "metadata": {},
   "source": [
    "Now on to writing our _Hello World!_ program. The first challenge is to figure out which command to use to print and the syntax needed to specify our string. We're not doing a full (or even partial) tutorial on Python here, so it's really just a matter of finding a practical solution, even if we haven't fully covered all the concepts (like commands, arguments, strings, output). Let's just Google [python 3 print string](http://lmgtfy.com/?q=python+3+print+string) – your results may vary, but the top result for me is a link to the Python 3 Documentation Tutorial on [Input and Output](https://docs.python.org/3/tutorial/inputoutput.html) which refers to the built-in [print()](https://docs.python.org/3/library/functions.html#print) function.\n",
    "\n",
    "```print()``` is a built-in function and a keyword that Python recognizes, but ```Hello World!``` is not a keyword, it's a string. In computing terms, a string is a series of characters, and it is represented in Python by wrapping it in quotation marks. So in its simplest form, we can send one string input, wrapped in quote marks, to the print() function by putting it inside the parentheses.\n",
    "\n",
    "After hitting ```Shift-Enter``` in the Markdown cell above, you should have a new cell that's in code format. Try pasting in the following code:\n",
    "\n",
    "> ```print(\"Hello World!\")```\n",
    "\n",
    "And then press Shift-Enter``` to see the results."
   ]
  },
  {
   "cell_type": "code",
   "execution_count": null,
   "metadata": {
    "collapsed": false
   },
   "outputs": [],
   "source": [
    "print(\"Hello World!\")"
   ]
  },
  {
   "cell_type": "markdown",
   "metadata": {},
   "source": [
    "Yay! Our first program in Python!\n",
    "\n",
    "![Hello World! Markdown](images/hello-world-first-code.png)\n",
    "\n",
    "But, you're saying, why do I need a program to print a string? I could do that in one of these text boxes since I'm using a fancy notebook environment like iPython Notebooks. True, but we're taking baby steps, and we'll quickly go beyond just printing a static string.\n",
    "\n",
    "Before we do that, let's quickly look at debugging or error fixing. Things don't always go perfectly, and it's good to get used to understanding and fixing errors. For instance, in Python 2.x (the previous version – and lots of Google pages give examples for Python 2.x), it's possible to use print without parentheses, but it's not in Python 3.x. Let's see what happens if we try the \"old\" way:"
   ]
  },
  {
   "cell_type": "code",
   "execution_count": null,
   "metadata": {
    "collapsed": false
   },
   "outputs": [],
   "source": [
    "print \"Hello World\""
   ]
  },
  {
   "cell_type": "markdown",
   "metadata": {},
   "source": [
    "This tells us, if a bit cryptically, that there was an error. In this case the ```SyntaxError``` message is very helpful, but that's not always the case. The caret ^ symbol also tries to indicate where the problem is located (though again, this can sometimes be less helpful)."
   ]
  },
  {
   "cell_type": "markdown",
   "metadata": {},
   "source": [
    "# Working with strings\n",
    "\n",
    "Next we will work through some really useful things we can do with text in Python, namely:\n",
    "- Assigning string values to variables\n",
    "- Find the length of some string with the len() function\n",
    "- Select parts of an iterable using the 'slice notation', eg [4:10]\n",
    "- How to create lists of words or sentences using the split() function"
   ]
  },
  {
   "cell_type": "markdown",
   "metadata": {},
   "source": [
    "Assigning strings to a variable\n",
    "--\n",
    "\n",
    "Let's say we have a string such as the following: \"The winters in the latitude of Sullivan's Island are seldom very severe, and in the fall of the year it is a rare event indeed when a fire is considered necessary\"\n",
    "\n",
    "The first advantage of using a programming language like Python is the ability to store and recall strings (and other types of data) by assigning it a name, called a \"variable\". The variable name goes on the left-hand side of an equals sign, and the value of the string (in its quotation marks) goes on the right-hand side.\n",
    "\n",
    "Run the cell below to see how the string is assigned to the variable named \"sentence\", which is then the input for the print function."
   ]
  },
  {
   "cell_type": "code",
   "execution_count": null,
   "metadata": {
    "collapsed": false
   },
   "outputs": [],
   "source": [
    "sentence = \"The winters in the latitude of Sullivan's Island are seldom very severe, and in the fall of the year it is a rare event indeed when a fire is considered necessary\"\n",
    "print(sentence)"
   ]
  },
  {
   "cell_type": "markdown",
   "metadata": {},
   "source": [
    "## Exercise\n",
    "\n",
    "Variables can have any name you like, with some exceptions. It is best to use short lowercase words where possible. Spaces are not allowed. You should also avoid using punctuation, especially at the start of a variable name. However, it is accepted practice to use the underscore to join two words, such as ```\"word_list\"```.\n",
    "\n",
    "In the cell below, create a new variable and invent a sentence of your own as its value, then print it by passing that value to the ```print()``` function. "
   ]
  },
  {
   "cell_type": "code",
   "execution_count": null,
   "metadata": {
    "collapsed": true
   },
   "outputs": [],
   "source": []
  },
  {
   "cell_type": "markdown",
   "metadata": {},
   "source": [
    "# Find the length of a string\n",
    "\n",
    "To find the length of a string of text, you can use the built-in function ```len()```.\n",
    "\n",
    "> ```length = len(sentence)```  \n",
    "> ```print(length)```\n",
    "\n",
    "Note, we could also have written:\n",
    "\n",
    "> ```print(len(sentence))```"
   ]
  },
  {
   "cell_type": "code",
   "execution_count": null,
   "metadata": {
    "collapsed": false
   },
   "outputs": [],
   "source": [
    "print(len(sentence))"
   ]
  },
  {
   "cell_type": "markdown",
   "metadata": {},
   "source": [
    "This is the number of __characters__ in the sentence, including spaces and punctuation. You can test this by removing a space or full stop from the cell above where the variable ```sentence``` is defined, running its cell again by pressing ```Shift + Enter```, and then making your count again."
   ]
  },
  {
   "cell_type": "markdown",
   "metadata": {},
   "source": [
    "# Slicing strings\n",
    "\n",
    "While the number of characters in a sentence may not seem very useful, it is important in helping us understand that the computer enables us to process natural langauge only indirectly, by first turning it into numbers. For instance, a string is a series of characters that can be examined one by one by referring to a number representing its position:"
   ]
  },
  {
   "cell_type": "code",
   "execution_count": null,
   "metadata": {
    "collapsed": false
   },
   "outputs": [],
   "source": [
    "char = sentence[4]\n",
    "winter = sentence[4:10]\n",
    "print(char)\n",
    "print(winter)"
   ]
  },
  {
   "cell_type": "markdown",
   "metadata": {},
   "source": [
    "The numbers in square brackets 'slice' the string, starting from zero (so to get the very first 'T' in the sentence, you'd write ```sentence[0]```.\n",
    "\n",
    "Of more obvious use to us will be to work with whole words, and for that we need to create a list."
   ]
  },
  {
   "cell_type": "markdown",
   "metadata": {},
   "source": [
    "# Creating and working with word lists\n",
    "\n",
    "Often, our first task in analysing a text will be to split it into separate words. This process is called tokenisation. We will use a Python built in function to tokenise by words, as a first step."
   ]
  },
  {
   "cell_type": "code",
   "execution_count": null,
   "metadata": {
    "collapsed": false
   },
   "outputs": [],
   "source": [
    "word_list = sentence.split()\n",
    "print(word_list)"
   ]
  },
  {
   "cell_type": "markdown",
   "metadata": {},
   "source": [
    "## Exercise\n",
    "\n",
    "We can also split blocks of text into sentences, by passing a character to use to split the text to the ```split()``` function. For example, to split by full stops you might use ```split('.')```. Try splitting the following text into sentences. Note any problems you observe in a new cell using Markdown.\n",
    "\n",
    "\"Many years ago, I contracted an intimacy with a Mr. William Legrand. He was of an ancient Huguenot family, and had once been wealthy; but a series of misfortunes had reduced him to want. To avoid the mortification consequent upon his disasters, he left New Orleans, the city of his forefathers, and took up his residence at Sullivan's Island, near Charleston, South Carolina.\""
   ]
  },
  {
   "cell_type": "markdown",
   "metadata": {},
   "source": [
    "## More Markdown"
   ]
  },
  {
   "cell_type": "markdown",
   "metadata": {},
   "source": [
    "As we mentioned earlier, Markdown is a special format used for text in an iPython Notebook. Markdown is intended to be more succinct and simpler to read and write than HTML (Markdown is converted to HTML for display in the browser). For instance, we can easily have text appear in \\**bold*\\* or \\__italics_\\_, paragraphs are created from newlines, and links like http://python.org/ appear automatically. Another powerful feature is the creation of lists. For instance, we can create an HTML list by having an asterisk in front of every item (you can copy the first section and evaluate the mark down to get the second section, note the use of hyphens -- (at least two are needed) under the first line to create a sub-heading using a different strategy than using a # character):\n",
    "\n",
    "> Things we've learned in this Notebook<br />\n",
    "> --<br />\n",
    "> \\* creating a new notebook<br />\n",
    "> \\* basic user interface of a notebook<br />\n",
    "> \\* printing a static string like \\_Hello World!\\_<br />\n",
    "> \\* debugging syntax errors<br />\n",
    "> \\* how to count the length of strings<br/>\n",
    "> \\* how to split strings into lists of words or sentences<br/>\n",
    "> \\* a bit more about Markdown (see http://daringfireball.net/projects/markdown/syntax)<br />\n",
    "\n",
    "Things we've learned in this Notebook\n",
    "-----------\n",
    "* creating a new notebook\n",
    "* basic user interface of a notebook\n",
    "* printing a static string like _Hello World!_\n",
    "* debugging syntax errors\n",
    "* how to count the length of strings\n",
    "* how to split strings into lists of words or sentences\n",
    "* a bit more about Markdown (see http://daringfireball.net/projects/markdown/syntax)\n"
   ]
  },
  {
   "cell_type": "markdown",
   "metadata": {},
   "source": [
    "## Next Steps"
   ]
  },
  {
   "cell_type": "markdown",
   "metadata": {},
   "source": [
    "Return to the new notebook you created and then try some of the following tasks:\n",
    "\n",
    "* try using len() to count the number of words in a word list\n",
    "* try slicing your list of words to get the 10th word from the start; then try the 5th word from the end (Hint: try [-1])\n",
    "\n",
    "This guide is focused on text analysis, so in the next module we're going to shift toward a small corpus that we can use, in other words, [Getting Texts](GettingTexts.ipynb)."
   ]
  },
  {
   "cell_type": "markdown",
   "metadata": {},
   "source": [
    "---\n",
    "From [The Art of Literary Text Analysis](ArtOfLiteraryTextAnalysis.ipynb) by [Stéfan Sinclair](http://stefansinclair.name) &amp; [Geoffrey Rockwell](http://geoffreyrockwell.com), [CC BY-SA](https://creativecommons.org/licenses/by-sa/4.0/)\n",
    "\n",
    "Created January 2, 2015, modified January 12, 2015"
   ]
  }
 ],
 "metadata": {
  "kernelspec": {
   "display_name": "Python 3",
   "language": "python",
   "name": "python3"
  },
  "language_info": {
   "codemirror_mode": {
    "name": "ipython",
    "version": 3
   },
   "file_extension": ".py",
   "mimetype": "text/x-python",
   "name": "python",
   "nbconvert_exporter": "python",
   "pygments_lexer": "ipython3",
   "version": "3.4.3"
  }
 },
 "nbformat": 4,
 "nbformat_minor": 0
}
