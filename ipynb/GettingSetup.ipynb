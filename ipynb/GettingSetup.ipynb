{
 "cells": [
  {
   "cell_type": "markdown",
   "metadata": {},
   "source": [
    "# Getting Setup: Installing iPython Notebooks"
   ]
  },
  {
   "cell_type": "markdown",
   "metadata": {},
   "source": [
    "This notebook describes how to get setup with iPython Notebooks. It's part of the [The Art of Literary Text Analysis](ArtOfLiteraryTextAnalysis.ipynb).\n",
    "\n",
    "Fear not, setting up iPython Notebooks is (usually) a smooth and painless process. Let's try the best case scenario first, and then see from there if additional information is needed. The two following sections below cover the basics of intallation for [Mac OS X](#Setup-on-Mac-OS-X) and for [Windows](#Setup-on-Windows). For variations, you can also consult the [Installing iPython](http://ipython.org/install.html) documentation."
   ]
  },
  {
   "cell_type": "markdown",
   "metadata": {},
   "source": [
    "## Setup on Mac OS X"
   ]
  },
  {
   "cell_type": "markdown",
   "metadata": {},
   "source": [
    "<img style=\"float: right; width: 200px\" src=\"https://www.python.org/static/img/python-logo@2x.png\" /> Even though Python comes pre-installed on Mac OS X, it's probably an older version and we're going to install a newer version (in large part because Python version 3.x handles Unicode characters much better – we'll get to that later). Visit the [Python downloads page](https://www.python.org/downloads/) and choose the latest version (make sure it's 3.4 or higher). This is an installer program, so once the file is downloaded, simply run it.\n",
    "\n",
    "Great! So now we should have Python 3.x installed. The next step is to install iPython and iPython notebooks (which we can do in one fell swoop). To do that, we need to use the Terminal window, which is a command-line interface to the underlying unix-based operating system in Mac OS X. Open up a Finder window and navigate to the Applications folder and then the Utilities folder (alternatively, use Spotlight to search for Terminal and select it).\n",
    "\n",
    "Once you've launched Terminal, you should now type the following command:\n",
    "\n",
    "> ```sudo pip3 install \"ipython[all]\"```\n",
    "\n",
    "FYI, here are the components of this command:\n",
    "\n",
    "* _sudo_: this runs the command as a system adminstrator so that you have the necessary permissions to install files\n",
    "* _pip3_: pip is a package (application) manager for Python\n",
    "* _install_: we're telling ```pip3``` to install a package\n",
    "* _\"ipython[all]\"_: we're installing all packages for ipython, which includes ```notebook```\n",
    "\n",
    "You'll be prompted for your password and, assuming you're an adminstrator of your machine (i.e. that it's not a public machine), you should be able to type the password you use when logging in. Note that the password won't appear as you're typing, but type it out and then hit enter/return.\n",
    "\n",
    "![Terminal install iPython](images/terminal-ipython-install.png)\n",
    "\n",
    "That should be it! Assuming all went smoothly, you should now be able to launch iPython notebook in the Terminal window with the command below (which should open up a web-browser window) and continue on with [getting gtarted](GettingStarted.ipynb).\n",
    "\n",
    "> ```ipython notebook```"
   ]
  },
  {
   "cell_type": "markdown",
   "metadata": {},
   "source": [
    "## Setup on Windows"
   ]
  },
  {
   "cell_type": "markdown",
   "metadata": {},
   "source": [
    "There are several ways of setting up iPython Notebooks on Windows, but one of the easier ones is probably to download and run the graphical Anaconda installer. Head over to their [downloads page](http://continuum.io/downloads) and be sure to select Python 3.4 (or higher).\n",
    "\n",
    "![Anaconda Downloads](images/anaconda-download.png)\n",
    "\n",
    "After following the instructions in the Anaconda Installer, you should now have an Anaconda folder in your Programs menu, and you should see an entry that allows you to launch iPython Notebook. Click on that and continue on with [getting started](GettingStarted.ipynb)."
   ]
  },
  {
   "cell_type": "markdown",
   "metadata": {},
   "source": [
    "---\n",
    "From [The Art of Literary Text Analysis](ArtOfLiteraryTextAnalysis.ipynb) by [Stéfan Sinclair](http://stefansinclair.name) &amp; [Geoffrey Rockwell](http://geoffreyrockwell.com), created January 7, 2015, [CC BY-SA](https://creativecommons.org/licenses/by-sa/4.0/)"
   ]
  }
 ],
 "metadata": {
  "kernelspec": {
   "display_name": "Python 3",
   "language": "python",
   "name": "python3"
  },
  "language_info": {
   "codemirror_mode": {
    "name": "ipython",
    "version": 3
   },
   "file_extension": ".py",
   "mimetype": "text/x-python",
   "name": "python",
   "nbconvert_exporter": "python",
   "pygments_lexer": "ipython3",
   "version": "3.4.3"
  }
 },
 "nbformat": 4,
 "nbformat_minor": 0
}
