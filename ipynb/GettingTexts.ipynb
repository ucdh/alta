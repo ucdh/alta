{
 "cells": [
  {
   "cell_type": "markdown",
   "metadata": {},
   "source": [
    "# Getting Texts"
   ]
  },
  {
   "cell_type": "markdown",
   "metadata": {},
   "source": [
    "This notebook is focused on an essential component of digital text analysis: preparing a corpus of texts. It's part of the [Art of Literary Text Analysis](ArtOfLiteraryTextAnalysis) and assumes that you've already worked through [Getting Setup](GettingSetupENGL345.ipynb) and [Getting Started](GettingStarted.ipynb). In this notebook we'll look at\n",
    "\n",
    "* accessing plain texts online\n",
    "* finding string length, counting occurrences of a term, extracting part of a string\n",
    "* data types\n",
    "* saving and accessing plain texts in a local directory\n",
    "* listing text files in a local directory\n",
    "\n",
    "Note that we're especially interested here in working with plain texts, in later notebooks we'll deal with other formats."
   ]
  },
  {
   "cell_type": "markdown",
   "metadata": {},
   "source": [
    "## Running your iPython notebook (recap)"
   ]
  },
  {
   "cell_type": "markdown",
   "metadata": {},
   "source": [
    "In the previous [Getting Started](GettingStarted.ipynb) notebook we launched iPython Notebook from the user's home directory (the current working directory when you launch Terminal. We then navigate to our .ipynb files from within the browser window runing iPython Notebook.\n",
    "\n",
    "To get started again today, you'll need to find the 'wk2' files [from Github](https://github.com/ucdh/alta/tree/wk2), download them ('Download Zip') and save them in the folder you used last week. This week's notebooks are 'GettingTexts' and 'GettingNLTK'.\n",
    "\n",
    "Once you have the files, open Terminal (Applications > Utilities > Terminal) and run the command:\n",
    "\n",
    "> ```ipython notebook```\n",
    "\n",
    "Notice that soon after launching iPython Notebook there is a message that tells us how to shutdown the server, by pressing [Control]-C (press the control button on your keyboard and then hit ```c```), and then hit ```y``` to confirm.\n",
    "\n",
    "![Stop Server](images/stop-server.png)\n",
    "\n",
    "Once you have the notebook server running on your Mac, you can run code in the notebook and edit your own copy. Next, you'll look at the task of getting texts."
   ]
  },
  {
   "cell_type": "markdown",
   "metadata": {},
   "source": [
    "## Accessing Plain Texts Online"
   ]
  },
  {
   "cell_type": "markdown",
   "metadata": {},
   "source": [
    "Let's create a new notebook and set its name (by clicking on the _Untitled0_ label above the toolbar) to _AccessTexts_ and set the first cell format to ```Heading 1``` with the title _Access Texts_.\n",
    "\n",
    "![Access Texts](images/access-texts.png)\n",
    "\n",
    "Hit Shift-Enter to evaluate/format the heading cell and create a new cell. The format of the new cell should be Markdown, and we can put something like this:\n",
    "\n",
    "> We are first going to experiment with loading a plain text into memory from the \\[Gutenberg Project](http://gutenberg.org), an online library with tens of thousands of free texts in different languages and formats. To do this we will import a Python library called [Requests](http://www.python-requests.org/en/latest/) that will help us request web pages, doing what our web browsers do via a Python script instead.\n",
    "\n",
    "As we proceed through this notebook and beyond, we'll no longer make much distinction between the tutorial notebook and a separate notebook that you may want to write to experiment. It will be up to you to decide which parts you want to try in your own notebook.\n",
    "\n",
    "Next, let's demonstrate how we can read the contents of a plain text version of the [Works of Edgar Allan Poe, Volume 1](http://www.gutenberg.org/ebooks/2147), available at http://www.gutenberg.org/cache/epub/2147/pg2147.txt. Run the cell below to see this working."
   ]
  },
  {
   "cell_type": "code",
   "execution_count": null,
   "metadata": {
    "collapsed": false
   },
   "outputs": [],
   "source": [
    "import requests\n",
    "poeUrl = \"http://www.gutenberg.org/cache/epub/2147/pg2147.txt\"\n",
    "poeString = requests.get(poeUrl).text\n",
    "print(poeString[0:300])"
   ]
  },
  {
   "cell_type": "markdown",
   "metadata": {},
   "source": [
    "Most of the principles involved have already been covered in the [Getting Started](GettingStarted.ipynb)\n",
    "\n",
    "1. import module (in this case ```requests```)\n",
    "1. assigning a string (the url) to a variable name of our choice ```poeUrl```\n",
    "1. making a function call and assigning the result to the variable name ```poeString```\n",
    "\n",
    "In this case [get()](http://www.python-requests.org/en/latest/user/quickstart/#make-a-request) is the function name with an argument that contains our Poe URL and returns a Response object. We then ask for the [text](http://www.python-requests.org/en/latest/api/#requests.Response) property of this HTTP response and store this in the variable PoeString. Finally, we print a couple of hundred characters (using the slice notation) to see what the result is.\n",
    "\n",
    "Many things can go wrong during networking calls, but if all goes well, we should now have a variable (poeString) containing a string with the same contents as at our [URL](http://www.gutenberg.org/cache/epub/2147/pg2147.txt) (click to check that they match!).\n",
    "\n",
    "Fetching the contents of a URL is a relatively heavy operation, so we want to isolate that in its own cell so that we don't have to run it more times that necessary. If we want to explore various aspects of the poeString string that we fetched, we should do that in a separate cell so that we're not re-fetching the string each time."
   ]
  },
  {
   "cell_type": "markdown",
   "metadata": {},
   "source": [
    "## Some Simple String Functions"
   ]
  },
  {
   "cell_type": "markdown",
   "metadata": {},
   "source": [
    "Last time, we briefly tried using the [len()](https://docs.python.org/3/library/functions.html?highlight=len#len) function. Now, let's use it again to see the length of the poeString string (how many characters there are)."
   ]
  },
  {
   "cell_type": "code",
   "execution_count": null,
   "metadata": {
    "collapsed": false
   },
   "outputs": [],
   "source": [
    "len(poeString)"
   ]
  },
  {
   "cell_type": "markdown",
   "metadata": {},
   "source": [
    "This suggests that there are 550,293 characters (because we're in Python 3.x we should be dealing with Unicode, and so this should be a true count of the characters, not just the bytes). We'll learn more about Unicode in a later class.\n",
    "\n",
    "We can look at the string documentation section to see examples of how we can extract parts of a string. For instance, if we want the first 75 characters, we could do this:"
   ]
  },
  {
   "cell_type": "code",
   "execution_count": null,
   "metadata": {
    "collapsed": false
   },
   "outputs": [],
   "source": [
    "poeString[:75]"
   ]
  },
  {
   "cell_type": "markdown",
   "metadata": {},
   "source": [
    "As we've seen, when the slice notation is used with a colon, we get a range of characters back - in this case from the first or '0th' to the 75th character. Compare the result if you remove the colon.\n",
    "\n",
    "With ```poeString[:75]``` some of the text returned is familiar, but some of the text is less so. We don't need to get into the details here, but we see examples of a [Unicode Byte Order Mark](http://en.wikipedia.org/wiki/Byte_order_mark) at the beginning and of MS-Windows-based [newline characters](http://en.wikipedia.org/wiki/Newline) at the end.\n",
    "\n",
    "Next, let's use another handy built-in function ```count()```, and let's count the occurrences of the term _corpse_:"
   ]
  },
  {
   "cell_type": "code",
   "execution_count": null,
   "metadata": {
    "collapsed": false
   },
   "outputs": [],
   "source": [
    "poeString.count(\"corpse\")"
   ]
  },
  {
   "cell_type": "markdown",
   "metadata": {},
   "source": [
    "Clearly Poe likes talking about corpses. Note that we are searching for _corpse_ (lowercase). This isn't the same as Corpse (capitalized). How many instances of the latter are there?\n",
    "\n",
    "Our [Poe text](http://www.gutenberg.org/cache/epub/2147/pg2147.txt) is actually a volume of multiple texts, what if we wanted to isolate only one of the text, such as \"The Gold Bug?\"\n",
    "\n",
    "We can start by thinking of the string as a sequence of characters, where each character has an index position. Python, like many languages, starts its indexing at 0, so if we ignore the Unicode characters at the start, we get something like this:\n",
    "\n",
    "|P|r|o|j|e|c|t| |G|u|t|e|n|b|e|r|g|'|s| |T|h|e|…|\n",
    "|:-:|:-:|:-:|:-:|:-:|:-:|:-:|:-:|:-:|:-:|:-:|:-:|:-:|:-:|:-:|:-:|:-:|:-:|:-:|:-:|:-:|:-:|:-:|:-:\n",
    "|0|1|2|3|4|5|6|7|8|9|10|11|12|13|14|15|16|17|18|19|20|21|22|…|\n",
    "\n",
    "So, for instance, I can ask to find the index position of the letter \"G\" from \"Project Gutenberg's The\""
   ]
  },
  {
   "cell_type": "code",
   "execution_count": null,
   "metadata": {
    "collapsed": false
   },
   "outputs": [],
   "source": [
    "string = \"Project Gutenberg's The\"\n",
    "string.find(\"G\")"
   ]
  },
  {
   "cell_type": "markdown",
   "metadata": {},
   "source": [
    "The [find()](https://docs.python.org/3/library/stdtypes.html?highlight=index#str.find) function returns the index of the start of the string being matched (the string argument \"G\" above). The found index position will be the same for the full word. "
   ]
  },
  {
   "cell_type": "code",
   "execution_count": null,
   "metadata": {
    "collapsed": false
   },
   "outputs": [],
   "source": [
    "string.find(\"Gutenberg\")"
   ]
  },
  {
   "cell_type": "markdown",
   "metadata": {},
   "source": [
    "Note that The ```find()``` is case sensitive, so looking for \"p\" will give a value of -1, which indicates that no match was found."
   ]
  },
  {
   "cell_type": "code",
   "execution_count": null,
   "metadata": {
    "collapsed": false
   },
   "outputs": [],
   "source": [
    "string.find(\"p\")"
   ]
  },
  {
   "cell_type": "markdown",
   "metadata": {},
   "source": [
    "To isolate the \"The Gold Bug\" in our Poe text, we might do something like the following (sometimes planning a program in natural language, rather than in computer code, can be useful):\n",
    "\n",
    "1. find the index position of the start of the story, i.e. \"THE GOLD-BUG\"\n",
    "1. find the index position of the end of the story, or the start of the next story, i.e. \"FOUR BEASTS IN ONE\"\n",
    "1. create a new string from 1) the start of position 1) to just before the start of position 2)\n",
    "\n",
    "We know how to find the first two steps, and we've already seen a variant of the second step when we asked for the first few characters of the full Poe text. Let's first try in a simplified form to isolate \"Gutenberg's\" from our string \"Project Gutenberg's The\":"
   ]
  },
  {
   "cell_type": "code",
   "execution_count": null,
   "metadata": {
    "collapsed": false
   },
   "outputs": [],
   "source": [
    "start = string.find(\"Gutenberg\")\n",
    "end = string.find(\" The\")\n",
    "string[start:end]"
   ]
  },
  {
   "cell_type": "markdown",
   "metadata": {},
   "source": [
    "Same principle for isolating \"The Gold Bug\" story:"
   ]
  },
  {
   "cell_type": "code",
   "execution_count": null,
   "metadata": {
    "collapsed": false
   },
   "outputs": [],
   "source": [
    "start = poeString.find(\"THE GOLD-BUG\")\n",
    "end = poeString.find(\"FOUR BEASTS IN ONE\")\n",
    "goldBugString = poeString[start:end]\n",
    "# show start and end of goldBugString\n",
    "goldBugString[:75] + \" [rest of the text…] \" + goldBugString[-75:]"
   ]
  },
  {
   "cell_type": "markdown",
   "metadata": {},
   "source": [
    "Great - we've now loaded a text from a webpage, stored it in a variable, and isolated a particular section we're interested in.\n",
    "\n",
    "Note: did you notice the comment in the previous code cell? In Python, lines beginning with a '#' are comments. They aren't executed by Python, and are another great way for you to document and explain what code does as you write it."
   ]
  },
  {
   "cell_type": "markdown",
   "metadata": {},
   "source": [
    "## Data types"
   ]
  },
  {
   "cell_type": "markdown",
   "metadata": {},
   "source": [
    "At this point it is useful to know a little more about the concept of data types. We've already described text - words, sentences, paragraphs - as \"strings\". In Python, a string is a type of data we may use. Other types of data we might encounter are integers, booleans (True/False), lists, and sets. Data types can share properties, and may have certain types of functions that can use them in common. For instance, a string like \"The Gold Bug\" can be sliced, or it can be looped over to examine each character one by one. Similarly, a list of words, ```['The', 'Gold', 'Bug']``` can be sliced or looped over.\n",
    "\n",
    "If you're wondering why we write ```string.find(\"a sub string\")``` above, but used ```len(a string)``` before that, it is because ```find()``` is a more specific kind of function - one that can only be used with strings of text. We call such specific functions \"methods\" - in this case it is a string method. ```string.find(\"a sub string\")``` specifies a string type object, then uses the find method to search for a given sub string. ```len()``` could be used with a range of numbers or other types of objects, so we don't need to attach it after a string object to use it.\n",
    "\n",
    "You can use the very handy function ```type()``` to check the datatype of any object. Try out the following:"
   ]
  },
  {
   "cell_type": "code",
   "execution_count": null,
   "metadata": {
    "collapsed": false
   },
   "outputs": [],
   "source": [
    "type(\"The Gold Bug\")"
   ]
  },
  {
   "cell_type": "code",
   "execution_count": null,
   "metadata": {
    "collapsed": false
   },
   "outputs": [],
   "source": [
    "type(14)"
   ]
  },
  {
   "cell_type": "code",
   "execution_count": null,
   "metadata": {
    "collapsed": false
   },
   "outputs": [],
   "source": [
    "type(['The', 'Gold', 'Bug'])"
   ]
  },
  {
   "cell_type": "markdown",
   "metadata": {},
   "source": [
    "If your code is not working, it's often really useful to start debugging by testing the type of your inputs and outputs, to make sure we're using the appropriate methods and functions for the objects we're dealing with."
   ]
  },
  {
   "cell_type": "markdown",
   "metadata": {},
   "source": [
    "## Accessing Local Plain Texts"
   ]
  },
  {
   "cell_type": "markdown",
   "metadata": {},
   "source": [
    "Code that relies on accessing content from the web is convenient, though not nearly as robust. Content can change or disappear from the web, and maybe you want to work on your Notebook in a remote location or in an airplane without internet connectivity. Moreover, accessing content from your local machine is typically much faster than interacting with web-based content.\n",
    "\n",
    "What we'll do in the next section is the following:\n",
    "\n",
    "1. create a local directory for data (if necessary)\n",
    "1. open a new file and write our goldBugString to the file\n",
    "1. (re)open the file and read from it\n",
    "\n",
    "Let's begin by creating a new subdirectory (relative to the current notebook directory), using the [os](https://docs.python.org/3/library/os.html) module."
   ]
  },
  {
   "cell_type": "code",
   "execution_count": null,
   "metadata": {
    "collapsed": false
   },
   "outputs": [],
   "source": [
    "import os\n",
    "directory = \"data\"\n",
    "if not os.path.exists(directory):\n",
    "    os.makedirs(directory)"
   ]
  },
  {
   "cell_type": "markdown",
   "metadata": {},
   "source": [
    "This demonstrates a [conditional structure in Python](http://en.wikibooks.org/wiki/Python_Programming/Conditional_Statements) where we test for a boolean value (true or false) of whether or not or directory [exists](https://docs.python.org/3/library/os.path.html?highlight=exists#os.path.exists).\n",
    "\n",
    "Python uses a colon and indentation (usually four spaces) to indicate the parts of the conditional block. If we want to execute a block when a condition evaluates to true (like ```1 < 5```, one _is_ smaller than five):\n",
    "\n",
    "<blockquote><pre>if _condition_:\n",
    "    _block_</pre></blockquote>\n",
    "\n",
    "Or if a condition is not true (like ```1 > 5```, one _is not_ smaller than five):\n",
    "\n",
    "<blockquote><pre>if *not* _condition_:\n",
    "    _block_</pre></blockquote>\n",
    "\n",
    "If the _data_ directory does't exist, we create it using [mkdirs()](https://docs.python.org/3/library/os.html?highlight=mkdirs#os.makedirs).\n",
    "\n",
    "In the cell below, try writing an ```if``` expression to test if ```1 < 5``` (ie if 1 is less than 5) and print \"My maths can cope with that\" if the expression is true. Use four spaces to indent the conditional block."
   ]
  },
  {
   "cell_type": "code",
   "execution_count": null,
   "metadata": {
    "collapsed": false
   },
   "outputs": [],
   "source": []
  },
  {
   "cell_type": "markdown",
   "metadata": {},
   "source": [
    "Now that we have a data directory, we need to open a new file in write (\"w\") mode and write out the string contents of goldBugString. Since we opened the file for writing, we also need to ```close()``` it."
   ]
  },
  {
   "cell_type": "code",
   "execution_count": null,
   "metadata": {
    "collapsed": false
   },
   "outputs": [],
   "source": [
    "f = open(\"data/goldBug.txt\", \"w\")\n",
    "f.write(goldBugString)\n",
    "f.close()"
   ]
  },
  {
   "cell_type": "markdown",
   "metadata": {},
   "source": [
    "The ```open()``` functions returns a file descriptor (that we've named ```f```) and to which we can write contents. Assuming things did work out, we can now turn around and open the file in read mode (\"r\" instead \"w\"), read the contents into a new variable that we'll call ```goldBugString2```, and then close the file."
   ]
  },
  {
   "cell_type": "code",
   "execution_count": null,
   "metadata": {
    "collapsed": false
   },
   "outputs": [],
   "source": [
    "f = open(\"data/goldBug.txt\", \"r\")\n",
    "goldBugString2 = f.read()\n",
    "f.close()"
   ]
  },
  {
   "cell_type": "markdown",
   "metadata": {},
   "source": [
    "Let's have a peek at the contents in our ```goldBugString2``` variable, the same way we did before."
   ]
  },
  {
   "cell_type": "code",
   "execution_count": null,
   "metadata": {
    "collapsed": false
   },
   "outputs": [],
   "source": [
    "goldBugString2[:75] + \" [rest of the text…] \" + goldBugString2[-75:]"
   ]
  },
  {
   "cell_type": "markdown",
   "metadata": {},
   "source": [
    "## Listing Files in a Local Directory"
   ]
  },
  {
   "cell_type": "markdown",
   "metadata": {},
   "source": [
    "As with many things in programming languages like Python, there's more than one way of listing files in a directory. We're going to introduce a way here that also introduces a loop, a process that is repeated multiple times for each element in a list or for as long as a condition is true.\n",
    "\n",
    "But first let's start with the [glob()](https://docs.python.org/3/library/glob.html?highlight=glob#glob.glob) function that allows us to list the files in a directory."
   ]
  },
  {
   "cell_type": "code",
   "execution_count": null,
   "metadata": {
    "collapsed": false
   },
   "outputs": [],
   "source": [
    "import glob\n",
    "textFiles = glob.glob(\"data/*txt\")\n",
    "textFiles"
   ]
  },
  {
   "cell_type": "markdown",
   "metadata": {},
   "source": [
    "The results are shown as a list (delimited by the square brackets), with each element inside separated by a comma (here we only have one element because we only have one file so far).\n",
    "\n",
    "We can ask what kind of object our ```textFiles``` variable contains."
   ]
  },
  {
   "cell_type": "code",
   "execution_count": null,
   "metadata": {
    "collapsed": false
   },
   "outputs": [],
   "source": [
    "type(textFiles)"
   ]
  },
  {
   "cell_type": "markdown",
   "metadata": {},
   "source": [
    "Lists are a type of variable that lend themselves to loops or to iterating over each element. For instance, to show each filename with the number of characters, we could do something like this:"
   ]
  },
  {
   "cell_type": "code",
   "execution_count": null,
   "metadata": {
    "collapsed": false
   },
   "outputs": [],
   "source": [
    "totalCharacters = 0\n",
    "for textFile in textFiles:\n",
    "    f = open(textFile, \"r\")\n",
    "    textString = f.read()\n",
    "    f.close()\n",
    "    chars = len(textString)\n",
    "    print(textFile, \"has\", chars, \"characters\")\n",
    "    totalCharacters += chars\n",
    "print(\"total characters: \", totalCharacters)"
   ]
  },
  {
   "cell_type": "markdown",
   "metadata": {},
   "source": [
    "The code above is of the general form\n",
    "\n",
    "<blockquote><pre> for _item_ in _list_:\n",
    "    _block_</pre></blockquote>\n",
    "\n",
    "In other words, for each item in our ```textFiles``` list, we execute the block where ```textFile``` is the local variable holding the item in the list. Just as with the conditionals, the colon and indentation indicate what the loop condition is (as long as more elements exist in the list) and what block to execute for each iteration.\n",
    "\n",
    "In the code above we're also calculating the total number of characters (tracking them in a variable that we've called ```totalCharacters```. Each time we iterate over the list of files, we add the length of characters for the current file.\n",
    "\n",
    "> ```python\n",
    "totalCharacters += chars```\n",
    "\n",
    "The += operator is a compact way to add a value to an existing variable. It's the equivalent of this:\n",
    "\n",
    "> ```python\n",
    "totalCharacters = totalCharacters + chars```\n",
    "\n",
    "Finally, we're using the ```print()``` function here because its's a simple way of combining a string (\"total characters: \") and a number (```totalCharacters```). We can't use the ```+``` operator because that can't combine objects of different data types."
   ]
  },
  {
   "cell_type": "markdown",
   "metadata": {},
   "source": [
    "## Next Steps"
   ]
  },
  {
   "cell_type": "markdown",
   "metadata": {},
   "source": [
    "Here are some tasks to try:\n",
    "\n",
    "* how would you create a subdirectory called ```Austen``` under the working directory you've already created for these classes?\n",
    "* for each of the plain text novels in English of [Jane Austen](http://www.gutenberg.org/ebooks/author/68) in Project Gutenberg\n",
    "  * how would you isolate the text content (without the Project Gutenberg header and footer)?\n",
    "  * how would you save the text-only content into the ```data/Austen``` directory?\n",
    "* how would you loop over the files in the ```data/Austen``` directory and for each one print the file name and a count of \"his\" and \"her\"?\n",
    "* what is the total number of characters in the Austen corpus?\n",
    "\n",
    "In the next notebook ([Getting NLTK](GettingNltk.ipynb)) we're going to introduce the Natural Language Toolkit that provides a huge number of useful functions for text analysis."
   ]
  },
  {
   "cell_type": "markdown",
   "metadata": {},
   "source": [
    "---\n",
    "From [The Art of Literary Text Analysis](https://github.com/sgsinclair/alta) by [Stéfan Sinclair](http://stefansinclair.name) &amp; [Geoffrey Rockwell](http://geoffreyrockwell.com), [CC BY-SA](https://creativecommons.org/licenses/by-sa/4.0/)<br />\n",
    "Created January 12, 2015"
   ]
  }
 ],
 "metadata": {
  "kernelspec": {
   "display_name": "Python 3",
   "language": "python",
   "name": "python3"
  },
  "language_info": {
   "codemirror_mode": {
    "name": "ipython",
    "version": 3
   },
   "file_extension": ".py",
   "mimetype": "text/x-python",
   "name": "python",
   "nbconvert_exporter": "python",
   "pygments_lexer": "ipython3",
   "version": "3.4.3"
  }
 },
 "nbformat": 4,
 "nbformat_minor": 0
}
